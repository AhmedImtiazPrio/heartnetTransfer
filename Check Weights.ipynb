{
 "cells": [
  {
   "cell_type": "code",
   "execution_count": 1,
   "metadata": {},
   "outputs": [],
   "source": [
    "from __future__ import print_function\n",
    "\n",
    "import h5py\n"
   ]
  },
  {
   "cell_type": "code",
   "execution_count": 11,
   "metadata": {},
   "outputs": [],
   "source": [
    "\n",
    "def print_structure(weight_file_path):\n",
    "    \"\"\"\n",
    "    Prints out the structure of HDF5 file.\n",
    "\n",
    "    Args:\n",
    "      weight_file_path (str) : Path to the file to analyze\n",
    "    \n",
    "    \"\"\"\n",
    "    global f\n",
    "    f = h5py.File(weight_file_path)\n",
    "    try:\n",
    "        if len(f.attrs.items()):\n",
    "            print(\"{} contains: \".format(weight_file_path))\n",
    "            print(\"Root attributes:\")\n",
    "        for key, value in f.attrs.items():\n",
    "            print(\"  {}: {}\".format(key, value))\n",
    "\n",
    "        if len(f.items())==0:\n",
    "            return \n",
    "\n",
    "        for layer, g in f.items():\n",
    "            print(\"  {}\".format(layer))\n",
    "            print(\"    Attributes:\")\n",
    "            for key, value in g.attrs.items():\n",
    "                print(\"      {}: {}\".format(key, value))\n",
    "\n",
    "            print(\"    Dataset:\")\n",
    "            for p_name in g.keys():\n",
    "                param = g[p_name]\n",
    "                subkeys = param.keys()\n",
    "                for k_name in param.keys():\n",
    "                    print(\"      {}/{}: {}\".format(p_name, k_name, param.get(k_name)[:]))\n",
    "    finally:\n",
    "#         f.close()\n",
    "        print('Done')"
   ]
  },
  {
   "cell_type": "code",
   "execution_count": 12,
   "metadata": {},
   "outputs": [
    {
     "name": "stdout",
     "output_type": "stream",
     "text": [
      "/home/prio/heart_sound/weights.0169-0.8798.hdf5 contains: \n",
      "Root attributes:\n",
      "  keras_version: b'2.1.3'\n",
      "  backend: b'tensorflow'\n",
      "  model_config: b'{\"class_name\": \"Model\", \"config\": {\"layers\": [{\"class_name\": \"InputLayer\", \"config\": {\"dtype\": \"float32\", \"batch_input_shape\": [null, 2500, 1], \"name\": \"input_1\", \"sparse\": false}, \"inbound_nodes\": [], \"name\": \"input_1\"}, {\"class_name\": \"Conv1D_linearphase\", \"config\": {\"kernel_constraint\": null, \"kernel_initializer\": {\"class_name\": \"VarianceScaling\", \"config\": {\"distribution\": \"uniform\", \"scale\": 1.0, \"seed\": null, \"mode\": \"fan_avg\"}}, \"name\": \"conv1d_linearphase_1\", \"bias_regularizer\": null, \"bias_constraint\": null, \"activation\": \"linear\", \"trainable\": false, \"data_format\": \"channels_last\", \"rank\": 1, \"padding\": \"same\", \"strides\": [1], \"dilation_rate\": [1], \"kernel_regularizer\": null, \"filters\": 1, \"bias_initializer\": {\"class_name\": \"Zeros\", \"config\": {}}, \"use_bias\": false, \"activity_regularizer\": null, \"kernel_size\": [31]}, \"inbound_nodes\": [[[\"input_1\", 0, 0, {}]]], \"name\": \"conv1d_linearphase_1\"}, {\"class_name\": \"Conv1D_linearphase\", \"config\": {\"kernel_constraint\": null, \"kernel_initializer\": {\"class_name\": \"VarianceScaling\", \"config\": {\"distribution\": \"uniform\", \"scale\": 1.0, \"seed\": null, \"mode\": \"fan_avg\"}}, \"name\": \"conv1d_linearphase_2\", \"bias_regularizer\": null, \"bias_constraint\": null, \"activation\": \"linear\", \"trainable\": false, \"data_format\": \"channels_last\", \"rank\": 1, \"padding\": \"same\", \"strides\": [1], \"dilation_rate\": [1], \"kernel_regularizer\": null, \"filters\": 1, \"bias_initializer\": {\"class_name\": \"Zeros\", \"config\": {}}, \"use_bias\": false, \"activity_regularizer\": null, \"kernel_size\": [31]}, \"inbound_nodes\": [[[\"input_1\", 0, 0, {}]]], \"name\": \"conv1d_linearphase_2\"}, {\"class_name\": \"Conv1D_linearphase\", \"config\": {\"kernel_constraint\": null, \"kernel_initializer\": {\"class_name\": \"VarianceScaling\", \"config\": {\"distribution\": \"uniform\", \"scale\": 1.0, \"seed\": null, \"mode\": \"fan_avg\"}}, \"name\": \"conv1d_linearphase_3\", \"bias_regularizer\": null, \"bias_constraint\": null, \"activation\": \"linear\", \"trainable\": false, \"data_format\": \"channels_last\", \"rank\": 1, \"padding\": \"same\", \"strides\": [1], \"dilation_rate\": [1], \"kernel_regularizer\": null, \"filters\": 1, \"bias_initializer\": {\"class_name\": \"Zeros\", \"config\": {}}, \"use_bias\": false, \"activity_regularizer\": null, \"kernel_size\": [31]}, \"inbound_nodes\": [[[\"input_1\", 0, 0, {}]]], \"name\": \"conv1d_linearphase_3\"}, {\"class_name\": \"Conv1D_linearphase\", \"config\": {\"kernel_constraint\": null, \"kernel_initializer\": {\"class_name\": \"VarianceScaling\", \"config\": {\"distribution\": \"uniform\", \"scale\": 1.0, \"seed\": null, \"mode\": \"fan_avg\"}}, \"name\": \"conv1d_linearphase_4\", \"bias_regularizer\": null, \"bias_constraint\": null, \"activation\": \"linear\", \"trainable\": false, \"data_format\": \"channels_last\", \"rank\": 1, \"padding\": \"same\", \"strides\": [1], \"dilation_rate\": [1], \"kernel_regularizer\": null, \"filters\": 1, \"bias_initializer\": {\"class_name\": \"Zeros\", \"config\": {}}, \"use_bias\": false, \"activity_regularizer\": null, \"kernel_size\": [31]}, \"inbound_nodes\": [[[\"input_1\", 0, 0, {}]]], \"name\": \"conv1d_linearphase_4\"}, {\"class_name\": \"Conv1D\", \"config\": {\"kernel_constraint\": {\"class_name\": \"MaxNorm\", \"config\": {\"max_value\": 10000.0, \"axis\": 0}}, \"kernel_initializer\": {\"class_name\": \"VarianceScaling\", \"config\": {\"distribution\": \"normal\", \"scale\": 2.0, \"seed\": 1, \"mode\": \"fan_in\"}}, \"name\": \"conv1d_1\", \"bias_regularizer\": null, \"bias_constraint\": null, \"activation\": \"linear\", \"trainable\": true, \"padding\": \"valid\", \"strides\": [1], \"dilation_rate\": [1], \"kernel_regularizer\": {\"class_name\": \"L1L2\", \"config\": {\"l2\": 0.04864910989999771, \"l1\": 0.0}}, \"filters\": 8, \"bias_initializer\": {\"class_name\": \"Zeros\", \"config\": {}}, \"use_bias\": false, \"activity_regularizer\": null, \"kernel_size\": [5]}, \"inbound_nodes\": [[[\"conv1d_linearphase_1\", 0, 0, {}]]], \"name\": \"conv1d_1\"}, {\"class_name\": \"Conv1D\", \"config\": {\"kernel_constraint\": {\"class_name\": \"MaxNorm\", \"config\": {\"max_value\": 10000.0, \"axis\": 0}}, \"kernel_initializer\": {\"class_name\": \"VarianceScaling\", \"config\": {\"distribution\": \"normal\", \"scale\": 2.0, \"seed\": 1, \"mode\": \"fan_in\"}}, \"name\": \"conv1d_3\", \"bias_regularizer\": null, \"bias_constraint\": null, \"activation\": \"linear\", \"trainable\": true, \"padding\": \"valid\", \"strides\": [1], \"dilation_rate\": [1], \"kernel_regularizer\": {\"class_name\": \"L1L2\", \"config\": {\"l2\": 0.04864910989999771, \"l1\": 0.0}}, \"filters\": 8, \"bias_initializer\": {\"class_name\": \"Zeros\", \"config\": {}}, \"use_bias\": false, \"activity_regularizer\": null, \"kernel_size\": [5]}, \"inbound_nodes\": [[[\"conv1d_linearphase_2\", 0, 0, {}]]], \"name\": \"conv1d_3\"}, {\"class_name\": \"Conv1D\", \"config\": {\"kernel_constraint\": {\"class_name\": \"MaxNorm\", \"config\": {\"max_value\": 10000.0, \"axis\": 0}}, \"kernel_initializer\": {\"class_name\": \"VarianceScaling\", \"config\": {\"distribution\": \"normal\", \"scale\": 2.0, \"seed\": 1, \"mode\": \"fan_in\"}}, \"name\": \"conv1d_5\", \"bias_regularizer\": null, \"bias_constraint\": null, \"activation\": \"linear\", \"trainable\": true, \"padding\": \"valid\", \"strides\": [1], \"dilation_rate\": [1], \"kernel_regularizer\": {\"class_name\": \"L1L2\", \"config\": {\"l2\": 0.04864910989999771, \"l1\": 0.0}}, \"filters\": 8, \"bias_initializer\": {\"class_name\": \"Zeros\", \"config\": {}}, \"use_bias\": false, \"activity_regularizer\": null, \"kernel_size\": [5]}, \"inbound_nodes\": [[[\"conv1d_linearphase_3\", 0, 0, {}]]], \"name\": \"conv1d_5\"}, {\"class_name\": \"Conv1D\", \"config\": {\"kernel_constraint\": {\"class_name\": \"MaxNorm\", \"config\": {\"max_value\": 10000.0, \"axis\": 0}}, \"kernel_initializer\": {\"class_name\": \"VarianceScaling\", \"config\": {\"distribution\": \"normal\", \"scale\": 2.0, \"seed\": 1, \"mode\": \"fan_in\"}}, \"name\": \"conv1d_7\", \"bias_regularizer\": null, \"bias_constraint\": null, \"activation\": \"linear\", \"trainable\": true, \"padding\": \"valid\", \"strides\": [1], \"dilation_rate\": [1], \"kernel_regularizer\": {\"class_name\": \"L1L2\", \"config\": {\"l2\": 0.04864910989999771, \"l1\": 0.0}}, \"filters\": 8, \"bias_initializer\": {\"class_name\": \"Zeros\", \"config\": {}}, \"use_bias\": false, \"activity_regularizer\": null, \"kernel_size\": [5]}, \"inbound_nodes\": [[[\"conv1d_linearphase_4\", 0, 0, {}]]], \"name\": \"conv1d_7\"}, {\"class_name\": \"BatchNormalization\", \"config\": {\"beta_constraint\": null, \"gamma_initializer\": {\"class_name\": \"Ones\", \"config\": {}}, \"moving_mean_initializer\": {\"class_name\": \"Zeros\", \"config\": {}}, \"name\": \"batch_normalization_1\", \"epsilon\": 1.1e-05, \"trainable\": true, \"moving_variance_initializer\": {\"class_name\": \"Ones\", \"config\": {}}, \"beta_initializer\": {\"class_name\": \"Zeros\", \"config\": {}}, \"scale\": true, \"axis\": -1, \"gamma_constraint\": null, \"gamma_regularizer\": null, \"beta_regularizer\": null, \"momentum\": 0.99, \"center\": true}, \"inbound_nodes\": [[[\"conv1d_1\", 0, 0, {}]]], \"name\": \"batch_normalization_1\"}, {\"class_name\": \"BatchNormalization\", \"config\": {\"beta_constraint\": null, \"gamma_initializer\": {\"class_name\": \"Ones\", \"config\": {}}, \"moving_mean_initializer\": {\"class_name\": \"Zeros\", \"config\": {}}, \"name\": \"batch_normalization_3\", \"epsilon\": 1.1e-05, \"trainable\": true, \"moving_variance_initializer\": {\"class_name\": \"Ones\", \"config\": {}}, \"beta_initializer\": {\"class_name\": \"Zeros\", \"config\": {}}, \"scale\": true, \"axis\": -1, \"gamma_constraint\": null, \"gamma_regularizer\": null, \"beta_regularizer\": null, \"momentum\": 0.99, \"center\": true}, \"inbound_nodes\": [[[\"conv1d_3\", 0, 0, {}]]], \"name\": \"batch_normalization_3\"}, {\"class_name\": \"BatchNormalization\", \"config\": {\"beta_constraint\": null, \"gamma_initializer\": {\"class_name\": \"Ones\", \"config\": {}}, \"moving_mean_initializer\": {\"class_name\": \"Zeros\", \"config\": {}}, \"name\": \"batch_normalization_5\", \"epsilon\": 1.1e-05, \"trainable\": true, \"moving_variance_initializer\": {\"class_name\": \"Ones\", \"config\": {}}, \"beta_initializer\": {\"class_name\": \"Zeros\", \"config\": {}}, \"scale\": true, \"axis\": -1, \"gamma_constraint\": null, \"gamma_regularizer\": null, \"beta_regularizer\": null, \"momentum\": 0.99, \"center\": true}, \"inbound_nodes\": [[[\"conv1d_5\", 0, 0, {}]]], \"name\": \"batch_normalization_5\"}, {\"class_name\": \"BatchNormalization\", \"config\": {\"beta_constraint\": null, \"gamma_initializer\": {\"class_name\": \"Ones\", \"config\": {}}, \"moving_mean_initializer\": {\"class_name\": \"Zeros\", \"config\": {}}, \"name\": \"batch_normalization_7\", \"epsilon\": 1.1e-05, \"trainable\": true, \"moving_variance_initializer\": {\"class_name\": \"Ones\", \"config\": {}}, \"beta_initializer\": {\"class_name\": \"Zeros\", \"config\": {}}, \"scale\": true, \"axis\": -1, \"gamma_constraint\": null, \"gamma_regularizer\": null, \"beta_regularizer\": null, \"momentum\": 0.99, \"center\": true}, \"inbound_nodes\": [[[\"conv1d_7\", 0, 0, {}]]], \"name\": \"batch_normalization_7\"}, {\"class_name\": \"Activation\", \"config\": {\"activation\": \"relu\", \"trainable\": true, \"name\": \"activation_1\"}, \"inbound_nodes\": [[[\"batch_normalization_1\", 0, 0, {}]]], \"name\": \"activation_1\"}, {\"class_name\": \"Activation\", \"config\": {\"activation\": \"relu\", \"trainable\": true, \"name\": \"activation_3\"}, \"inbound_nodes\": [[[\"batch_normalization_3\", 0, 0, {}]]], \"name\": \"activation_3\"}, {\"class_name\": \"Activation\", \"config\": {\"activation\": \"relu\", \"trainable\": true, \"name\": \"activation_5\"}, \"inbound_nodes\": [[[\"batch_normalization_5\", 0, 0, {}]]], \"name\": \"activation_5\"}, {\"class_name\": \"Activation\", \"config\": {\"activation\": \"relu\", \"trainable\": true, \"name\": \"activation_7\"}, \"inbound_nodes\": [[[\"batch_normalization_7\", 0, 0, {}]]], \"name\": \"activation_7\"}, {\"class_name\": \"Dropout\", \"config\": {\"rate\": 0.5, \"noise_shape\": null, \"trainable\": true, \"seed\": 1, \"name\": \"dropout_1\"}, \"inbound_nodes\": [[[\"activation_1\", 0, 0, {}]]], \"name\": \"dropout_1\"}, {\"class_name\": \"Dropout\", \"config\": {\"rate\": 0.5, \"noise_shape\": null, \"trainable\": true, \"seed\": 1, \"name\": \"dropout_3\"}, \"inbound_nodes\": [[[\"activation_3\", 0, 0, {}]]], \"name\": \"dropout_3\"}, {\"class_name\": \"Dropout\", \"config\": {\"rate\": 0.5, \"noise_shape\": null, \"trainable\": true, \"seed\": 1, \"name\": \"dropout_5\"}, \"inbound_nodes\": [[[\"activation_5\", 0, 0, {}]]], \"name\": \"dropout_5\"}, {\"class_name\": \"Dropout\", \"config\": {\"rate\": 0.5, \"noise_shape\": null, \"trainable\": true, \"seed\": 1, \"name\": \"dropout_7\"}, \"inbound_nodes\": [[[\"activation_7\", 0, 0, {}]]], \"name\": \"dropout_7\"}, {\"class_name\": \"MaxPooling1D\", \"config\": {\"padding\": \"valid\", \"strides\": [2], \"trainable\": true, \"name\": \"max_pooling1d_1\", \"pool_size\": [2]}, \"inbound_nodes\": [[[\"dropout_1\", 0, 0, {}]]], \"name\": \"max_pooling1d_1\"}, {\"class_name\": \"MaxPooling1D\", \"config\": {\"padding\": \"valid\", \"strides\": [2], \"trainable\": true, \"name\": \"max_pooling1d_3\", \"pool_size\": [2]}, \"inbound_nodes\": [[[\"dropout_3\", 0, 0, {}]]], \"name\": \"max_pooling1d_3\"}, {\"class_name\": \"MaxPooling1D\", \"config\": {\"padding\": \"valid\", \"strides\": [2], \"trainable\": true, \"name\": \"max_pooling1d_5\", \"pool_size\": [2]}, \"inbound_nodes\": [[[\"dropout_5\", 0, 0, {}]]], \"name\": \"max_pooling1d_5\"}, {\"class_name\": \"MaxPooling1D\", \"config\": {\"padding\": \"valid\", \"strides\": [2], \"trainable\": true, \"name\": \"max_pooling1d_7\", \"pool_size\": [2]}, \"inbound_nodes\": [[[\"dropout_7\", 0, 0, {}]]], \"name\": \"max_pooling1d_7\"}, {\"class_name\": \"Conv1D\", \"config\": {\"kernel_constraint\": {\"class_name\": \"MaxNorm\", \"config\": {\"max_value\": 10000.0, \"axis\": 0}}, \"kernel_initializer\": {\"class_name\": \"VarianceScaling\", \"config\": {\"distribution\": \"normal\", \"scale\": 2.0, \"seed\": 1, \"mode\": \"fan_in\"}}, \"name\": \"conv1d_2\", \"bias_regularizer\": null, \"bias_constraint\": null, \"activation\": \"linear\", \"trainable\": true, \"padding\": \"valid\", \"strides\": [1], \"dilation_rate\": [1], \"kernel_regularizer\": {\"class_name\": \"L1L2\", \"config\": {\"l2\": 0.04864910989999771, \"l1\": 0.0}}, \"filters\": 4, \"bias_initializer\": {\"class_name\": \"Zeros\", \"config\": {}}, \"use_bias\": false, \"activity_regularizer\": null, \"kernel_size\": [5]}, \"inbound_nodes\": [[[\"max_pooling1d_1\", 0, 0, {}]]], \"name\": \"conv1d_2\"}, {\"class_name\": \"Conv1D\", \"config\": {\"kernel_constraint\": {\"class_name\": \"MaxNorm\", \"config\": {\"max_value\": 10000.0, \"axis\": 0}}, \"kernel_initializer\": {\"class_name\": \"VarianceScaling\", \"config\": {\"distribution\": \"normal\", \"scale\": 2.0, \"seed\": 1, \"mode\": \"fan_in\"}}, \"name\": \"conv1d_4\", \"bias_regularizer\": null, \"bias_constraint\": null, \"activation\": \"linear\", \"trainable\": true, \"padding\": \"valid\", \"strides\": [1], \"dilation_rate\": [1], \"kernel_regularizer\": {\"class_name\": \"L1L2\", \"config\": {\"l2\": 0.04864910989999771, \"l1\": 0.0}}, \"filters\": 4, \"bias_initializer\": {\"class_name\": \"Zeros\", \"config\": {}}, \"use_bias\": false, \"activity_regularizer\": null, \"kernel_size\": [5]}, \"inbound_nodes\": [[[\"max_pooling1d_3\", 0, 0, {}]]], \"name\": \"conv1d_4\"}, {\"class_name\": \"Conv1D\", \"config\": {\"kernel_constraint\": {\"class_name\": \"MaxNorm\", \"config\": {\"max_value\": 10000.0, \"axis\": 0}}, \"kernel_initializer\": {\"class_name\": \"VarianceScaling\", \"config\": {\"distribution\": \"normal\", \"scale\": 2.0, \"seed\": 1, \"mode\": \"fan_in\"}}, \"name\": \"conv1d_6\", \"bias_regularizer\": null, \"bias_constraint\": null, \"activation\": \"linear\", \"trainable\": true, \"padding\": \"valid\", \"strides\": [1], \"dilation_rate\": [1], \"kernel_regularizer\": {\"class_name\": \"L1L2\", \"config\": {\"l2\": 0.04864910989999771, \"l1\": 0.0}}, \"filters\": 4, \"bias_initializer\": {\"class_name\": \"Zeros\", \"config\": {}}, \"use_bias\": false, \"activity_regularizer\": null, \"kernel_size\": [5]}, \"inbound_nodes\": [[[\"max_pooling1d_5\", 0, 0, {}]]], \"name\": \"conv1d_6\"}, {\"class_name\": \"Conv1D\", \"config\": {\"kernel_constraint\": {\"class_name\": \"MaxNorm\", \"config\": {\"max_value\": 10000.0, \"axis\": 0}}, \"kernel_initializer\": {\"class_name\": \"VarianceScaling\", \"config\": {\"distribution\": \"normal\", \"scale\": 2.0, \"seed\": 1, \"mode\": \"fan_in\"}}, \"name\": \"conv1d_8\", \"bias_regularizer\": null, \"bias_constraint\": null, \"activation\": \"linear\", \"trainable\": true, \"padding\": \"valid\", \"strides\": [1], \"dilation_rate\": [1], \"kernel_regularizer\": {\"class_name\": \"L1L2\", \"config\": {\"l2\": 0.04864910989999771, \"l1\": 0.0}}, \"filters\": 4, \"bias_initializer\": {\"class_name\": \"Zeros\", \"config\": {}}, \"use_bias\": false, \"activity_regularizer\": null, \"kernel_size\": [5]}, \"inbound_nodes\": [[[\"max_pooling1d_7\", 0, 0, {}]]], \"name\": \"conv1d_8\"}, {\"class_name\": \"BatchNormalization\", \"config\": {\"beta_constraint\": null, \"gamma_initializer\": {\"class_name\": \"Ones\", \"config\": {}}, \"moving_mean_initializer\": {\"class_name\": \"Zeros\", \"config\": {}}, \"name\": \"batch_normalization_2\", \"epsilon\": 1.1e-05, \"trainable\": true, \"moving_variance_initializer\": {\"class_name\": \"Ones\", \"config\": {}}, \"beta_initializer\": {\"class_name\": \"Zeros\", \"config\": {}}, \"scale\": true, \"axis\": -1, \"gamma_constraint\": null, \"gamma_regularizer\": null, \"beta_regularizer\": null, \"momentum\": 0.99, \"center\": true}, \"inbound_nodes\": [[[\"conv1d_2\", 0, 0, {}]]], \"name\": \"batch_normalization_2\"}, {\"class_name\": \"BatchNormalization\", \"config\": {\"beta_constraint\": null, \"gamma_initializer\": {\"class_name\": \"Ones\", \"config\": {}}, \"moving_mean_initializer\": {\"class_name\": \"Zeros\", \"config\": {}}, \"name\": \"batch_normalization_4\", \"epsilon\": 1.1e-05, \"trainable\": true, \"moving_variance_initializer\": {\"class_name\": \"Ones\", \"config\": {}}, \"beta_initializer\": {\"class_name\": \"Zeros\", \"config\": {}}, \"scale\": true, \"axis\": -1, \"gamma_constraint\": null, \"gamma_regularizer\": null, \"beta_regularizer\": null, \"momentum\": 0.99, \"center\": true}, \"inbound_nodes\": [[[\"conv1d_4\", 0, 0, {}]]], \"name\": \"batch_normalization_4\"}, {\"class_name\": \"BatchNormalization\", \"config\": {\"beta_constraint\": null, \"gamma_initializer\": {\"class_name\": \"Ones\", \"config\": {}}, \"moving_mean_initializer\": {\"class_name\": \"Zeros\", \"config\": {}}, \"name\": \"batch_normalization_6\", \"epsilon\": 1.1e-05, \"trainable\": true, \"moving_variance_initializer\": {\"class_name\": \"Ones\", \"config\": {}}, \"beta_initializer\": {\"class_name\": \"Zeros\", \"config\": {}}, \"scale\": true, \"axis\": -1, \"gamma_constraint\": null, \"gamma_regularizer\": null, \"beta_regularizer\": null, \"momentum\": 0.99, \"center\": true}, \"inbound_nodes\": [[[\"conv1d_6\", 0, 0, {}]]], \"name\": \"batch_normalization_6\"}, {\"class_name\": \"BatchNormalization\", \"config\": {\"beta_constraint\": null, \"gamma_initializer\": {\"class_name\": \"Ones\", \"config\": {}}, \"moving_mean_initializer\": {\"class_name\": \"Zeros\", \"config\": {}}, \"name\": \"batch_normalization_8\", \"epsilon\": 1.1e-05, \"trainable\": true, \"moving_variance_initializer\": {\"class_name\": \"Ones\", \"config\": {}}, \"beta_initializer\": {\"class_name\": \"Zeros\", \"config\": {}}, \"scale\": true, \"axis\": -1, \"gamma_constraint\": null, \"gamma_regularizer\": null, \"beta_regularizer\": null, \"momentum\": 0.99, \"center\": true}, \"inbound_nodes\": [[[\"conv1d_8\", 0, 0, {}]]], \"name\": \"batch_normalization_8\"}, {\"class_name\": \"Activation\", \"config\": {\"activation\": \"relu\", \"trainable\": true, \"name\": \"activation_2\"}, \"inbound_nodes\": [[[\"batch_normalization_2\", 0, 0, {}]]], \"name\": \"activation_2\"}, {\"class_name\": \"Activation\", \"config\": {\"activation\": \"relu\", \"trainable\": true, \"name\": \"activation_4\"}, \"inbound_nodes\": [[[\"batch_normalization_4\", 0, 0, {}]]], \"name\": \"activation_4\"}, {\"class_name\": \"Activation\", \"config\": {\"activation\": \"relu\", \"trainable\": true, \"name\": \"activation_6\"}, \"inbound_nodes\": [[[\"batch_normalization_6\", 0, 0, {}]]], \"name\": \"activation_6\"}, {\"class_name\": \"Activation\", \"config\": {\"activation\": \"relu\", \"trainable\": true, \"name\": \"activation_8\"}, \"inbound_nodes\": [[[\"batch_normalization_8\", 0, 0, {}]]], \"name\": \"activation_8\"}, {\"class_name\": \"Dropout\", \"config\": {\"rate\": 0.5, \"noise_shape\": null, \"trainable\": true, \"seed\": 1, \"name\": \"dropout_2\"}, \"inbound_nodes\": [[[\"activation_2\", 0, 0, {}]]], \"name\": \"dropout_2\"}, {\"class_name\": \"Dropout\", \"config\": {\"rate\": 0.5, \"noise_shape\": null, \"trainable\": true, \"seed\": 1, \"name\": \"dropout_4\"}, \"inbound_nodes\": [[[\"activation_4\", 0, 0, {}]]], \"name\": \"dropout_4\"}, {\"class_name\": \"Dropout\", \"config\": {\"rate\": 0.5, \"noise_shape\": null, \"trainable\": true, \"seed\": 1, \"name\": \"dropout_6\"}, \"inbound_nodes\": [[[\"activation_6\", 0, 0, {}]]], \"name\": \"dropout_6\"}, {\"class_name\": \"Dropout\", \"config\": {\"rate\": 0.5, \"noise_shape\": null, \"trainable\": true, \"seed\": 1, \"name\": \"dropout_8\"}, \"inbound_nodes\": [[[\"activation_8\", 0, 0, {}]]], \"name\": \"dropout_8\"}, {\"class_name\": \"MaxPooling1D\", \"config\": {\"padding\": \"valid\", \"strides\": [2], \"trainable\": true, \"name\": \"max_pooling1d_2\", \"pool_size\": [2]}, \"inbound_nodes\": [[[\"dropout_2\", 0, 0, {}]]], \"name\": \"max_pooling1d_2\"}, {\"class_name\": \"MaxPooling1D\", \"config\": {\"padding\": \"valid\", \"strides\": [2], \"trainable\": true, \"name\": \"max_pooling1d_4\", \"pool_size\": [2]}, \"inbound_nodes\": [[[\"dropout_4\", 0, 0, {}]]], \"name\": \"max_pooling1d_4\"}, {\"class_name\": \"MaxPooling1D\", \"config\": {\"padding\": \"valid\", \"strides\": [2], \"trainable\": true, \"name\": \"max_pooling1d_6\", \"pool_size\": [2]}, \"inbound_nodes\": [[[\"dropout_6\", 0, 0, {}]]], \"name\": \"max_pooling1d_6\"}, {\"class_name\": \"MaxPooling1D\", \"config\": {\"padding\": \"valid\", \"strides\": [2], \"trainable\": true, \"name\": \"max_pooling1d_8\", \"pool_size\": [2]}, \"inbound_nodes\": [[[\"dropout_8\", 0, 0, {}]]], \"name\": \"max_pooling1d_8\"}, {\"class_name\": \"Flatten\", \"config\": {\"trainable\": true, \"name\": \"flatten_1\"}, \"inbound_nodes\": [[[\"max_pooling1d_2\", 0, 0, {}]]], \"name\": \"flatten_1\"}, {\"class_name\": \"Flatten\", \"config\": {\"trainable\": true, \"name\": \"flatten_2\"}, \"inbound_nodes\": [[[\"max_pooling1d_4\", 0, 0, {}]]], \"name\": \"flatten_2\"}, {\"class_name\": \"Flatten\", \"config\": {\"trainable\": true, \"name\": \"flatten_3\"}, \"inbound_nodes\": [[[\"max_pooling1d_6\", 0, 0, {}]]], \"name\": \"flatten_3\"}, {\"class_name\": \"Flatten\", \"config\": {\"trainable\": true, \"name\": \"flatten_4\"}, \"inbound_nodes\": [[[\"max_pooling1d_8\", 0, 0, {}]]], \"name\": \"flatten_4\"}, {\"class_name\": \"Concatenate\", \"config\": {\"trainable\": true, \"name\": \"concatenate_1\", \"axis\": 1}, \"inbound_nodes\": [[[\"flatten_1\", 0, 0, {}], [\"flatten_2\", 0, 0, {}], [\"flatten_3\", 0, 0, {}], [\"flatten_4\", 0, 0, {}]]], \"name\": \"concatenate_1\"}, {\"class_name\": \"Dense\", \"config\": {\"kernel_initializer\": {\"class_name\": \"VarianceScaling\", \"config\": {\"distribution\": \"normal\", \"scale\": 2.0, \"seed\": 1, \"mode\": \"fan_in\"}}, \"name\": \"dense_1\", \"kernel_constraint\": {\"class_name\": \"MaxNorm\", \"config\": {\"max_value\": 10000.0, \"axis\": 0}}, \"bias_regularizer\": null, \"bias_constraint\": null, \"activation\": \"relu\", \"trainable\": true, \"kernel_regularizer\": {\"class_name\": \"L1L2\", \"config\": {\"l2\": 0.0, \"l1\": 0.0}}, \"bias_initializer\": {\"class_name\": \"Zeros\", \"config\": {}}, \"units\": 20, \"use_bias\": false, \"activity_regularizer\": null}, \"inbound_nodes\": [[[\"concatenate_1\", 0, 0, {}]]], \"name\": \"dense_1\"}, {\"class_name\": \"Dropout\", \"config\": {\"rate\": 0.0, \"noise_shape\": null, \"trainable\": true, \"seed\": 1, \"name\": \"dropout_9\"}, \"inbound_nodes\": [[[\"dense_1\", 0, 0, {}]]], \"name\": \"dropout_9\"}, {\"class_name\": \"Dense\", \"config\": {\"kernel_initializer\": {\"class_name\": \"VarianceScaling\", \"config\": {\"distribution\": \"uniform\", \"scale\": 1.0, \"seed\": null, \"mode\": \"fan_avg\"}}, \"name\": \"dense_2\", \"kernel_constraint\": null, \"bias_regularizer\": null, \"bias_constraint\": null, \"activation\": \"softmax\", \"trainable\": true, \"kernel_regularizer\": null, \"bias_initializer\": {\"class_name\": \"Zeros\", \"config\": {}}, \"units\": 2, \"use_bias\": true, \"activity_regularizer\": null}, \"inbound_nodes\": [[[\"dropout_9\", 0, 0, {}]]], \"name\": \"dense_2\"}], \"input_layers\": [[\"input_1\", 0, 0]], \"output_layers\": [[\"dense_2\", 0, 0]], \"name\": \"model_1\"}}'\n",
      "  training_config: b'{\"metrics\": [\"accuracy\"], \"loss\": \"categorical_crossentropy\", \"optimizer_config\": {\"class_name\": \"Adam\", \"config\": {\"beta_1\": 0.8999999761581421, \"beta_2\": 0.9990000128746033, \"decay\": 0.00011328850087011233, \"epsilon\": 1e-07, \"amsgrad\": false, \"lr\": 0.0012843783479183912}}, \"loss_weights\": null, \"sample_weight_mode\": null}'\n",
      "  model_weights\n",
      "    Attributes:\n",
      "      layer_names: [b'input_1' b'conv1d_linearphase_1' b'conv1d_linearphase_2'\n",
      " b'conv1d_linearphase_3' b'conv1d_linearphase_4' b'conv1d_1' b'conv1d_3'\n",
      " b'conv1d_5' b'conv1d_7' b'batch_normalization_1' b'batch_normalization_3'\n",
      " b'batch_normalization_5' b'batch_normalization_7' b'activation_1'\n",
      " b'activation_3' b'activation_5' b'activation_7' b'dropout_1' b'dropout_3'\n",
      " b'dropout_5' b'dropout_7' b'max_pooling1d_1' b'max_pooling1d_3'\n",
      " b'max_pooling1d_5' b'max_pooling1d_7' b'conv1d_2' b'conv1d_4' b'conv1d_6'\n",
      " b'conv1d_8' b'batch_normalization_2' b'batch_normalization_4'\n",
      " b'batch_normalization_6' b'batch_normalization_8' b'activation_2'\n",
      " b'activation_4' b'activation_6' b'activation_8' b'dropout_2' b'dropout_4'\n",
      " b'dropout_6' b'dropout_8' b'max_pooling1d_2' b'max_pooling1d_4'\n",
      " b'max_pooling1d_6' b'max_pooling1d_8' b'flatten_1' b'flatten_2'\n",
      " b'flatten_3' b'flatten_4' b'concatenate_1' b'dense_1' b'dropout_9'\n",
      " b'dense_2']\n",
      "      backend: b'tensorflow'\n",
      "      keras_version: b'2.1.3'\n",
      "    Dataset:\n",
      "Done\n"
     ]
    },
    {
     "ename": "AttributeError",
     "evalue": "'slice' object has no attribute 'encode'",
     "output_type": "error",
     "traceback": [
      "\u001b[0;31m---------------------------------------------------------------------------\u001b[0m",
      "\u001b[0;31mAttributeError\u001b[0m                            Traceback (most recent call last)",
      "\u001b[0;32m<ipython-input-12-bb6ff7d7d56b>\u001b[0m in \u001b[0;36m<module>\u001b[0;34m()\u001b[0m\n\u001b[0;32m----> 1\u001b[0;31m \u001b[0mprint_structure\u001b[0m\u001b[0;34m(\u001b[0m\u001b[0;34m'/home/prio/heart_sound/weights.0169-0.8798.hdf5'\u001b[0m\u001b[0;34m)\u001b[0m\u001b[0;34m\u001b[0m\u001b[0m\n\u001b[0m",
      "\u001b[0;32m<ipython-input-11-fa15e00a8c15>\u001b[0m in \u001b[0;36mprint_structure\u001b[0;34m(weight_file_path)\u001b[0m\n\u001b[1;32m     31\u001b[0m                 \u001b[0msubkeys\u001b[0m \u001b[0;34m=\u001b[0m \u001b[0mparam\u001b[0m\u001b[0;34m.\u001b[0m\u001b[0mkeys\u001b[0m\u001b[0;34m(\u001b[0m\u001b[0;34m)\u001b[0m\u001b[0;34m\u001b[0m\u001b[0m\n\u001b[1;32m     32\u001b[0m                 \u001b[0;32mfor\u001b[0m \u001b[0mk_name\u001b[0m \u001b[0;32min\u001b[0m \u001b[0mparam\u001b[0m\u001b[0;34m.\u001b[0m\u001b[0mkeys\u001b[0m\u001b[0;34m(\u001b[0m\u001b[0;34m)\u001b[0m\u001b[0;34m:\u001b[0m\u001b[0;34m\u001b[0m\u001b[0m\n\u001b[0;32m---> 33\u001b[0;31m                     \u001b[0mprint\u001b[0m\u001b[0;34m(\u001b[0m\u001b[0;34m\"      {}/{}: {}\"\u001b[0m\u001b[0;34m.\u001b[0m\u001b[0mformat\u001b[0m\u001b[0;34m(\u001b[0m\u001b[0mp_name\u001b[0m\u001b[0;34m,\u001b[0m \u001b[0mk_name\u001b[0m\u001b[0;34m,\u001b[0m \u001b[0mparam\u001b[0m\u001b[0;34m.\u001b[0m\u001b[0mget\u001b[0m\u001b[0;34m(\u001b[0m\u001b[0mk_name\u001b[0m\u001b[0;34m)\u001b[0m\u001b[0;34m[\u001b[0m\u001b[0;34m:\u001b[0m\u001b[0;34m]\u001b[0m\u001b[0;34m)\u001b[0m\u001b[0;34m)\u001b[0m\u001b[0;34m\u001b[0m\u001b[0m\n\u001b[0m\u001b[1;32m     34\u001b[0m     \u001b[0;32mfinally\u001b[0m\u001b[0;34m:\u001b[0m\u001b[0;34m\u001b[0m\u001b[0m\n\u001b[1;32m     35\u001b[0m \u001b[0;31m#         f.close()\u001b[0m\u001b[0;34m\u001b[0m\u001b[0;34m\u001b[0m\u001b[0m\n",
      "\u001b[0;32mh5py/_objects.pyx\u001b[0m in \u001b[0;36mh5py._objects.with_phil.wrapper\u001b[0;34m()\u001b[0m\n",
      "\u001b[0;32mh5py/_objects.pyx\u001b[0m in \u001b[0;36mh5py._objects.with_phil.wrapper\u001b[0;34m()\u001b[0m\n",
      "\u001b[0;32m~/.conda/envs/tensorflow/lib/python3.6/site-packages/h5py/_hl/group.py\u001b[0m in \u001b[0;36m__getitem__\u001b[0;34m(self, name)\u001b[0m\n\u001b[1;32m    167\u001b[0m                 \u001b[0;32mraise\u001b[0m \u001b[0mValueError\u001b[0m\u001b[0;34m(\u001b[0m\u001b[0;34m\"Invalid HDF5 object reference\"\u001b[0m\u001b[0;34m)\u001b[0m\u001b[0;34m\u001b[0m\u001b[0m\n\u001b[1;32m    168\u001b[0m         \u001b[0;32melse\u001b[0m\u001b[0;34m:\u001b[0m\u001b[0;34m\u001b[0m\u001b[0m\n\u001b[0;32m--> 169\u001b[0;31m             \u001b[0moid\u001b[0m \u001b[0;34m=\u001b[0m \u001b[0mh5o\u001b[0m\u001b[0;34m.\u001b[0m\u001b[0mopen\u001b[0m\u001b[0;34m(\u001b[0m\u001b[0mself\u001b[0m\u001b[0;34m.\u001b[0m\u001b[0mid\u001b[0m\u001b[0;34m,\u001b[0m \u001b[0mself\u001b[0m\u001b[0;34m.\u001b[0m\u001b[0m_e\u001b[0m\u001b[0;34m(\u001b[0m\u001b[0mname\u001b[0m\u001b[0;34m)\u001b[0m\u001b[0;34m,\u001b[0m \u001b[0mlapl\u001b[0m\u001b[0;34m=\u001b[0m\u001b[0mself\u001b[0m\u001b[0;34m.\u001b[0m\u001b[0m_lapl\u001b[0m\u001b[0;34m)\u001b[0m\u001b[0;34m\u001b[0m\u001b[0m\n\u001b[0m\u001b[1;32m    170\u001b[0m \u001b[0;34m\u001b[0m\u001b[0m\n\u001b[1;32m    171\u001b[0m         \u001b[0motype\u001b[0m \u001b[0;34m=\u001b[0m \u001b[0mh5i\u001b[0m\u001b[0;34m.\u001b[0m\u001b[0mget_type\u001b[0m\u001b[0;34m(\u001b[0m\u001b[0moid\u001b[0m\u001b[0;34m)\u001b[0m\u001b[0;34m\u001b[0m\u001b[0m\n",
      "\u001b[0;32m~/.conda/envs/tensorflow/lib/python3.6/site-packages/h5py/_hl/base.py\u001b[0m in \u001b[0;36m_e\u001b[0;34m(self, name, lcpl)\u001b[0m\n\u001b[1;32m    131\u001b[0m         \u001b[0;32melse\u001b[0m\u001b[0;34m:\u001b[0m\u001b[0;34m\u001b[0m\u001b[0m\n\u001b[1;32m    132\u001b[0m             \u001b[0;32mtry\u001b[0m\u001b[0;34m:\u001b[0m\u001b[0;34m\u001b[0m\u001b[0m\n\u001b[0;32m--> 133\u001b[0;31m                 \u001b[0mname\u001b[0m \u001b[0;34m=\u001b[0m \u001b[0mname\u001b[0m\u001b[0;34m.\u001b[0m\u001b[0mencode\u001b[0m\u001b[0;34m(\u001b[0m\u001b[0;34m'ascii'\u001b[0m\u001b[0;34m)\u001b[0m\u001b[0;34m\u001b[0m\u001b[0m\n\u001b[0m\u001b[1;32m    134\u001b[0m                 \u001b[0mcoding\u001b[0m \u001b[0;34m=\u001b[0m \u001b[0mh5t\u001b[0m\u001b[0;34m.\u001b[0m\u001b[0mCSET_ASCII\u001b[0m\u001b[0;34m\u001b[0m\u001b[0m\n\u001b[1;32m    135\u001b[0m             \u001b[0;32mexcept\u001b[0m \u001b[0mUnicodeEncodeError\u001b[0m\u001b[0;34m:\u001b[0m\u001b[0;34m\u001b[0m\u001b[0m\n",
      "\u001b[0;31mAttributeError\u001b[0m: 'slice' object has no attribute 'encode'"
     ]
    }
   ],
   "source": [
    "print_structure('/home/prio/heart_sound/weights.0169-0.8798.hdf5')"
   ]
  },
  {
   "cell_type": "code",
   "execution_count": 27,
   "metadata": {},
   "outputs": [
    {
     "name": "stdout",
     "output_type": "stream",
     "text": [
      " <HDF5 group \"/model_weights\" (53 members)>\n",
      " activation_1\n",
      " activation_2\n",
      " activation_3\n",
      " activation_4\n",
      " activation_5\n",
      " activation_6\n",
      " activation_7\n",
      " activation_8\n",
      " batch_normalization_1\n",
      " batch_normalization_2\n",
      " batch_normalization_3\n",
      " batch_normalization_4\n",
      " batch_normalization_5\n",
      " batch_normalization_6\n",
      " batch_normalization_7\n",
      " batch_normalization_8\n",
      " concatenate_1\n",
      " conv1d_1\n",
      " conv1d_2\n",
      " conv1d_3\n",
      " conv1d_4\n",
      " conv1d_5\n",
      " conv1d_6\n",
      " conv1d_7\n",
      " conv1d_8\n",
      " conv1d_linearphase_1\n",
      " conv1d_linearphase_2\n",
      " conv1d_linearphase_3\n",
      " conv1d_linearphase_4\n",
      " dense_1\n",
      " dense_2\n",
      " dropout_1\n",
      " dropout_2\n",
      " dropout_3\n",
      " dropout_4\n",
      " dropout_5\n",
      " dropout_6\n",
      " dropout_7\n",
      " dropout_8\n",
      " dropout_9\n",
      " flatten_1\n",
      " flatten_2\n",
      " flatten_3\n",
      " flatten_4\n",
      " input_1\n",
      " max_pooling1d_1\n",
      " max_pooling1d_2\n",
      " max_pooling1d_3\n",
      " max_pooling1d_4\n",
      " max_pooling1d_5\n",
      " max_pooling1d_6\n",
      " max_pooling1d_7\n",
      " max_pooling1d_8\n",
      " <HDF5 group \"/optimizer_weights\" (2 members)>\n",
      " Adam\n",
      " training\n"
     ]
    }
   ],
   "source": [
    "for value in f.values():\n",
    "    print(\" {}\".format(value))\n",
    "    for weight in value:\n",
    "        print(\" {}\".format(weight[:]))"
   ]
  },
  {
   "cell_type": "code",
   "execution_count": null,
   "metadata": {},
   "outputs": [],
   "source": []
  }
 ],
 "metadata": {
  "kernelspec": {
   "display_name": "Python 3",
   "language": "python",
   "name": "python3"
  },
  "language_info": {
   "codemirror_mode": {
    "name": "ipython",
    "version": 3
   },
   "file_extension": ".py",
   "mimetype": "text/x-python",
   "name": "python",
   "nbconvert_exporter": "python",
   "pygments_lexer": "ipython3",
   "version": "3.6.3"
  }
 },
 "nbformat": 4,
 "nbformat_minor": 2
}
