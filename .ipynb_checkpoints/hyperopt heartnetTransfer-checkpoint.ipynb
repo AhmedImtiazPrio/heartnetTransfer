{
 "cells": [
  {
   "cell_type": "code",
   "execution_count": 1,
   "metadata": {},
   "outputs": [
    {
     "name": "stderr",
     "output_type": "stream",
     "text": [
      "Using TensorFlow backend.\n"
     ]
    }
   ],
   "source": [
    "from __future__ import print_function, division\n",
    "from keras.constraints import max_norm\n",
    "from keras.regularizers import l2\n",
    "from custom_layers import Conv1D_linearphase\n",
    "from heartnet_v1 import heartnet, reshape_folds, branch\n",
    "import tensorflow as tf\n",
    "from keras.backend.tensorflow_backend import set_session\n",
    "config = tf.ConfigProto()\n",
    "config.gpu_options.per_process_gpu_memory_fraction = 0.4\n",
    "set_session(tf.Session(config=config))\n",
    "import numpy as np\n",
    "np.random.seed(1)\n",
    "from tensorflow import set_random_seed\n",
    "set_random_seed(1)\n",
    "from keras.utils import to_categorical\n",
    "from keras.optimizers import Adam, SGD\n",
    "from keras.callbacks import CSVLogger, ModelCheckpoint, TensorBoard, Callback\n",
    "from keras.utils import plot_model\n",
    "from keras.layers import Dense, Dropout, Concatenate, initializers, Input\n",
    "from keras.models import Model\n",
    "from keras import backend as K\n",
    "from sklearn.metrics import recall_score, confusion_matrix\n",
    "import pandas as pd\n",
    "import os\n",
    "import tables\n",
    "from datetime import datetime\n",
    "from hyperopt import hp, fmin, Trials, tpe, STATUS_OK"
   ]
  },
  {
   "cell_type": "code",
   "execution_count": 2,
   "metadata": {},
   "outputs": [],
   "source": [
    "def compute_weight(Y, classes):\n",
    "    num_samples = (len(Y))\n",
    "    n_classes = (len(classes))\n",
    "    num_bin = np.sum(Y,axis=-2)\n",
    "    class_weights = {i: (num_samples / (n_classes * num_bin[i])) for i in range(n_classes)}\n",
    "    return class_weights"
   ]
  },
  {
   "cell_type": "code",
   "execution_count": 3,
   "metadata": {},
   "outputs": [],
   "source": [
    "def heartnet_transfer(load_path='/home/prio/heart_sound/weights.0148-0.8902.hdf5',\n",
    "                      lr=0.0012843784,lr_decay=0.0001132885,\n",
    "                      num_dense1=20,num_dense2=20,trainable=False,dropout_rate=0.):\n",
    "    model = heartnet(load_path=False,FIR_train=False,trainable=trainable)\n",
    "    plot_model(model,'before.png',show_shapes=True,show_layer_names=True)\n",
    "    x = model.layers[-4].output\n",
    "    x = Dense(num_dense1,activation='relu',kernel_initializer=initializers.he_uniform(seed=1)) (x)\n",
    "    x = Dropout(rate=dropout_rate,seed=1) (x)\n",
    "    x = Dense(num_dense2, activation='relu',kernel_initializer=initializers.he_normal(seed=1))(x)\n",
    "    x = Dropout(rate=dropout_rate, seed=1)(x)\n",
    "    output = Dense(3,activation='softmax')(x)\n",
    "    model = Model(inputs=model.input,outputs=output)\n",
    "    plot_model(model, 'after.png',show_shapes=True,show_layer_names=True)\n",
    "    if load_path:\n",
    "        model.load_weights(load_path,by_name=True)\n",
    "    sgd = SGD(lr=lr)\n",
    "    model.compile(optimizer=sgd, loss='categorical_crossentropy', metrics=['accuracy'])\n",
    "    return model"
   ]
  },
  {
   "cell_type": "code",
   "execution_count": 4,
   "metadata": {},
   "outputs": [],
   "source": [
    "class log_UAR(Callback):\n",
    "\n",
    "    def __init__(self, x_val, y_val, val_parts):\n",
    "        self.x_val = x_val\n",
    "        self.y_val = y_val\n",
    "        self.val_parts = val_parts\n",
    "\n",
    "\n",
    "    def on_epoch_end(self, epoch, logs):\n",
    "        if logs is not None:\n",
    "            y_pred = self.model.predict(self.x_val, verbose=0)\n",
    "            y_pred = np.argmax(y_pred, axis=-1)\n",
    "            self.y_val_ = np.transpose(np.argmax(self.y_val, axis=-1))\n",
    "            true = []\n",
    "            pred = []\n",
    "            start_idx = 0\n",
    "            for s in self.val_parts:\n",
    "\n",
    "                if not s:  ## for e00032 in validation0 there was no cardiac cycle\n",
    "                    continue\n",
    "                # ~ print \"part {} start {} stop {}\".format(s,start_idx,start_idx+int(s)-1)\n",
    "\n",
    "                temp_ = self.y_val_[start_idx:start_idx + int(s) - 1]\n",
    "                temp = y_pred[start_idx:start_idx + int(s) - 1]\n",
    "\n",
    "                if (sum(temp == 0) > sum(temp == 1)) and (sum(temp == 0) > sum(temp == 2)):\n",
    "                    pred.append(0)\n",
    "                elif (sum(temp == 2) > sum(temp == 1)) and (sum(temp == 2) > sum(temp == 0)):\n",
    "                    pred.append(2)\n",
    "                else:\n",
    "                    pred.append(1)\n",
    "\n",
    "                if (sum(temp_ == 0) > sum(temp_ == 1)) and (sum(temp_ == 0) > sum(temp_ == 2)):\n",
    "                    true.append(0)\n",
    "                elif (sum(temp_ == 2) > sum(temp_ == 1)) and (sum(temp_ == 2) > sum(temp_ == 0)):\n",
    "                    true.append(2)\n",
    "                else:\n",
    "                    true.append(1)\n",
    "\n",
    "                start_idx = start_idx + int(s)\n",
    "\n",
    "            score = recall_score(y_pred=pred, y_true=true, average='macro')\n",
    "            logs['UAR'] = np.array(score)"
   ]
  },
  {
   "cell_type": "code",
   "execution_count": 5,
   "metadata": {},
   "outputs": [],
   "source": [
    "fold_dir = '/home/prio/heart_sound/feature/segmented_noFIR/'\n",
    "foldname = 'comParE'\n",
    "model_dir = '/home/prio/heart_sound/models/'\n",
    "log_dir = '/home/prio/heart_sound/logs/'\n",
    "\n",
    "##### Load Model ######\n",
    "load_path='/home/prio/heart_sound/weights.0148-0.8902.hdf5'\n",
    "# lr = 0.00001\n",
    "# lr = 0.1\n",
    "# num_dense1 = 734 #34,120,167,239,1239,650,788,422,598\n",
    "# num_dense2 = 20 #121,\n",
    "epochs = 45\n",
    "batch_size = 256\n",
    "dropout_rate = 0.\n",
    "trainable = True\n",
    "addweights = True"
   ]
  },
  {
   "cell_type": "code",
   "execution_count": 6,
   "metadata": {},
   "outputs": [
    {
     "name": "stdout",
     "output_type": "stream",
     "text": [
      "(17061, 2500, 1)\n",
      "(17061, 1)\n",
      "(5872, 2500, 1)\n",
      "(5872, 1)\n"
     ]
    }
   ],
   "source": [
    "feat = tables.open_file(fold_dir + foldname + '.mat')\n",
    "x_train = feat.root.trainX[:]\n",
    "y_train = feat.root.trainY[0, :]\n",
    "x_val = feat.root.valX[:]\n",
    "y_val = feat.root.valY[0, :]\n",
    "train_parts = feat.root.train_parts[:]\n",
    "val_parts = feat.root.val_parts[0, :]\n",
    "############### Reshaping ############\n",
    "x_train, y_train, x_val, y_val = reshape_folds(x_train, x_val, y_train, y_val)\n",
    "y_train = to_categorical(y_train,num_classes=3)\n",
    "y_val = to_categorical(y_val,num_classes=3)"
   ]
  },
  {
   "cell_type": "code",
   "execution_count": 13,
   "metadata": {},
   "outputs": [],
   "source": [
    "def objective(args):\n",
    "    #### Parse arguments and print #####\n",
    "    \n",
    "    print(\"args %s\" % args)\n",
    "    \n",
    "    lr = args['lr']\n",
    "    num_dense1 = args['num_dense1']\n",
    "    num_dense2 = args['num_dense2']\n",
    "    \n",
    "    ##### Load model ######\n",
    "    model = heartnet_transfer(load_path=load_path,lr=lr,num_dense1=num_dense1,\n",
    "                              num_dense2=num_dense2,trainable=trainable,\n",
    "                              dropout_rate=dropout_rate)\n",
    "    \n",
    "    #### Log params #####\n",
    "    log_name = foldname + ' ' + str(datetime.now()) + str([lr,num_dense1,num_dense2])\n",
    "    checkpoint_name = model_dir + log_name + \"/\" + 'weights.{epoch:04d}-{val_acc:.4f}.hdf5'\n",
    "    if not os.path.exists(model_dir + log_name):\n",
    "        os.makedirs(model_dir + log_name)\n",
    "    plot_model(model,\"model.png\",show_layer_names=True,show_shapes=True)\n",
    "    \n",
    "    ### Callbacks ###\n",
    "    \n",
    "    csv_logger = CSVLogger(log_dir + log_name + '/training.csv')\n",
    "    modelcheckpnt = ModelCheckpoint(filepath=checkpoint_name,\n",
    "                                    monitor='val_acc', save_best_only=False, mode='max')\n",
    "    tensbd = TensorBoard(log_dir=log_dir + log_name,\n",
    "                         batch_size=batch_size,\n",
    "                         # histogram_freq=100,\n",
    "                         # embeddings_freq=99,\n",
    "                         # embeddings_layer_names=embedding_layer_names,\n",
    "                         # embeddings_data=x_val,\n",
    "                         # embeddings_metadata=metadata_file,\n",
    "                         write_images=False)\n",
    "    class_weights=compute_weight(y_train,range(3))\n",
    "    print(\"Class weights %s\" % class_weights)\n",
    "\n",
    "    #### Train ####\n",
    "    \n",
    "    history = model.fit(x_train,y_train,\n",
    "                        batch_size=batch_size,\n",
    "                        epochs=epochs,\n",
    "                        verbose=2,\n",
    "                        shuffle=True,\n",
    "                        class_weight=class_weights,\n",
    "                        callbacks=[modelcheckpnt,\n",
    "                        log_UAR(x_val, y_val, val_parts),\n",
    "                        tensbd, csv_logger],\n",
    "                        validation_data=(x_val,y_val))\n",
    "    print(\"History : %s\" % history.history)\n",
    "    loss = history.history['UAR']\n",
    "    print(loss)\n",
    "    K.clear_session()\n",
    "#     return (1.- np.float32(np.max(loss)))\n",
    "    return {'loss': 1.- np.float32(np.max(loss)), 'status': STATUS_OK}"
   ]
  },
  {
   "cell_type": "code",
   "execution_count": 14,
   "metadata": {},
   "outputs": [],
   "source": [
    "space = {\n",
    "    'lr' : 10 ** hp.uniform('lr',-6,-2),\n",
    "    'num_dense1' : 200 + hp.randint('num_dense1',2000),\n",
    "    'num_dense2' : 20 + hp.randint('num_dense2',1000)\n",
    "}"
   ]
  },
  {
   "cell_type": "code",
   "execution_count": 15,
   "metadata": {},
   "outputs": [
    {
     "name": "stdout",
     "output_type": "stream",
     "text": [
      "args {'lr': 0.0023993588041102383, 'num_dense1': 1532, 'num_dense2': 280}\n",
      "Class weights {0: 1.9705474705474706, 1: 0.60564430244941425, 2: 1.1885057471264369}\n",
      "Train on 17061 samples, validate on 5872 samples\n",
      "Epoch 1/1\n",
      "5s - loss: 1.2576 - acc: 0.3878 - val_loss: 1.0776 - val_acc: 0.5140\n",
      "History : {'val_loss': [1.077598686114319], 'val_acc': [0.51396457749426527], 'loss': [1.2576299346378599], 'acc': [0.38778500685406198], 'UAR': [array(0.3333333333333333)]}\n",
      "[array(0.3333333333333333)]\n",
      "best: {'lr': -2.6199048020558076, 'num_dense1': 1332, 'num_dense2': 260}\n"
     ]
    }
   ],
   "source": [
    "trials = Trials()\n",
    "best = fmin(fn=objective,\n",
    "            space=space,\n",
    "            algo=tpe.suggest,\n",
    "            trials=trials,\n",
    "            max_evals=80)\n",
    "print('best:', best)"
   ]
  },
  {
   "cell_type": "code",
   "execution_count": 16,
   "metadata": {},
   "outputs": [
    {
     "data": {
      "text/plain": [
       "[{'book_time': datetime.datetime(2018, 3, 17, 18, 9, 7, 321000),\n",
       "  'exp_key': None,\n",
       "  'misc': {'cmd': ('domain_attachment', 'FMinIter_Domain'),\n",
       "   'idxs': {'lr': [0], 'num_dense1': [0], 'num_dense2': [0]},\n",
       "   'tid': 0,\n",
       "   'vals': {'lr': [-2.6199048020558076],\n",
       "    'num_dense1': [1332],\n",
       "    'num_dense2': [260]},\n",
       "   'workdir': None},\n",
       "  'owner': None,\n",
       "  'refresh_time': datetime.datetime(2018, 3, 17, 18, 9, 18, 436000),\n",
       "  'result': {'loss': 0.6666666567325592, 'status': 'ok'},\n",
       "  'spec': None,\n",
       "  'state': 2,\n",
       "  'tid': 0,\n",
       "  'version': 0}]"
      ]
     },
     "execution_count": 16,
     "metadata": {},
     "output_type": "execute_result"
    }
   ],
   "source": [
    "trials.trials"
   ]
  },
  {
   "cell_type": "code",
   "execution_count": null,
   "metadata": {},
   "outputs": [],
   "source": []
  }
 ],
 "metadata": {
  "kernelspec": {
   "display_name": "Python 3",
   "language": "python",
   "name": "python3"
  },
  "language_info": {
   "codemirror_mode": {
    "name": "ipython",
    "version": 3
   },
   "file_extension": ".py",
   "mimetype": "text/x-python",
   "name": "python",
   "nbconvert_exporter": "python",
   "pygments_lexer": "ipython3",
   "version": "3.6.3"
  }
 },
 "nbformat": 4,
 "nbformat_minor": 2
}
